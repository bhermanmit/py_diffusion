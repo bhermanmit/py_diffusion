{
 "cells": [
  {
   "cell_type": "code",
   "execution_count": 1,
   "metadata": {
    "collapsed": false
   },
   "outputs": [],
   "source": [
    "import diffusion\n",
    "\n",
    "import numpy as np\n",
    "import scipy.optimize\n",
    "import matplotlib.pyplot as plt\n",
    "\n",
    "%matplotlib inline"
   ]
  },
  {
   "cell_type": "markdown",
   "metadata": {},
   "source": [
    "# Cross sections, core buckling and diffusion length"
   ]
  },
  {
   "cell_type": "code",
   "execution_count": 31,
   "metadata": {
    "collapsed": false
   },
   "outputs": [
    {
     "name": "stdout",
     "output_type": "stream",
     "text": [
      "5.66358669957\n"
     ]
    }
   ],
   "source": [
    "D_c = 1.3\n",
    "Sigma_a_c = 0.5\n",
    "nuSigma_f_c = 0.9\n",
    "D_R = 1.5\n",
    "Sigma_a_R = 0.1\n",
    "\n",
    "# calculate core buckling assuming critical\n",
    "k = 1.0\n",
    "B2_c = (1.0/k*nuSigma_f_c - Sigma_a_c) / D_c\n",
    "B_c = np.sqrt(B2_c)\n",
    "\n",
    "# calculate diffusion length in reflector\n",
    "L_R = np.sqrt(D_R/Sigma_a_R)\n",
    "\n",
    "# Bare core size\n",
    "a_bare = np.pi / np.sqrt(B2_c)\n",
    "print a_bare"
   ]
  },
  {
   "cell_type": "markdown",
   "metadata": {},
   "source": [
    "# Verify bare core k is one"
   ]
  },
  {
   "cell_type": "code",
   "execution_count": 32,
   "metadata": {
    "collapsed": false
   },
   "outputs": [
    {
     "name": "stdout",
     "output_type": "stream",
     "text": [
      "1.00000009139\n"
     ]
    }
   ],
   "source": [
    "# create fuel material\n",
    "fuel = diffusion.Material(num_energy_groups=1)\n",
    "\n",
    "fuel.diffusion = [1.3]\n",
    "fuel.total = [0.5]\n",
    "fuel.scattering = [[0.0]]\n",
    "fuel.nu_fission = [0.9]\n",
    "fuel.chi = [1.0]\n",
    "\n",
    "# put fuel in materials object\n",
    "materials = diffusion.Materials(num_materials=1, num_energy_groups=1)\n",
    "materials.set_material(fuel, 0)\n",
    "\n",
    "# create geometry and mesh\n",
    "mesh = diffusion.Mesh(num_parts=1)\n",
    "mesh.material_map = [0]\n",
    "mesh.part_sizes = [a_bare]\n",
    "mesh.part_mesh = [2000]\n",
    "mesh.left_boundary = \"zero\"\n",
    "mesh.right_boundary = \"zero\"\n",
    "\n",
    "# create solver and solve the eigenvalue problem\n",
    "solver = diffusion.Solver(materials, mesh)\n",
    "solver.solve()\n",
    "\n",
    "# extract the eigenmodes\n",
    "eigs = solver.extract_eigenvalues()\n",
    "slab_x, fluxes = solver.extract_eigenvectors()\n",
    "print eigs[0]"
   ]
  },
  {
   "cell_type": "markdown",
   "metadata": {},
   "source": [
    "# Find Reflected Core Length"
   ]
  },
  {
   "cell_type": "code",
   "execution_count": 33,
   "metadata": {
    "collapsed": true
   },
   "outputs": [],
   "source": [
    "## Define buckling equation function from notes in residual form"
   ]
  },
  {
   "cell_type": "code",
   "execution_count": 34,
   "metadata": {
    "collapsed": true
   },
   "outputs": [],
   "source": [
    "def F(x):\n",
    "    residual = D_c*B_c*np.tan(B_c/2.0 * x) - D_R/L_R\n",
    "    return residual"
   ]
  },
  {
   "cell_type": "markdown",
   "metadata": {},
   "source": [
    "## Plot residual"
   ]
  },
  {
   "cell_type": "code",
   "execution_count": 35,
   "metadata": {
    "collapsed": false,
    "scrolled": false
   },
   "outputs": [
    {
     "data": {
      "text/plain": [
       "[<matplotlib.lines.Line2D at 0x1ab668d0>]"
      ]
     },
     "execution_count": 35,
     "metadata": {},
     "output_type": "execute_result"
    },
    {
     "data": {
      "image/png": "[encoded data removed]",
      "text/plain": [
       "<matplotlib.figure.Figure at 0x1af17d68>"
      ]
     },
     "metadata": {},
     "output_type": "display_data"
    }
   ],
   "source": [
    "# Plot from 0 to 5pi\n",
    "x_range = np.arange(0, 5*np.pi, 5*np.pi/1000.0)\n",
    "\n",
    "fig, ax = plt.subplots(figsize=(10, 7.5))\n",
    "ax.set_ylim(-1.0, 1.0)\n",
    "ax.plot(x_range, F(x_range))"
   ]
  },
  {
   "cell_type": "markdown",
   "metadata": {},
   "source": [
    "## Use optimization algorithm to find zero of function"
   ]
  },
  {
   "cell_type": "code",
   "execution_count": 36,
   "metadata": {
    "collapsed": false
   },
   "outputs": [
    {
     "name": "stdout",
     "output_type": "stream",
     "text": [
      "[ 1.77708435]\n"
     ]
    }
   ],
   "source": [
    "a_reflected = scipy.optimize.broyden1(F, [0.1], f_tol=1e-14)\n",
    "print a_reflected"
   ]
  },
  {
   "cell_type": "markdown",
   "metadata": {},
   "source": [
    "## Verify critical dimension with reflector"
   ]
  },
  {
   "cell_type": "code",
   "execution_count": 37,
   "metadata": {
    "collapsed": false
   },
   "outputs": [
    {
     "name": "stdout",
     "output_type": "stream",
     "text": [
      "1.00003395603\n"
     ]
    }
   ],
   "source": [
    "# create reflector material\n",
    "refl = diffusion.Material(num_energy_groups=1)\n",
    "\n",
    "refl.diffusion = [1.5]\n",
    "refl.total = [0.1]\n",
    "refl.scattering = [[0.0]]\n",
    "refl.nu_fission = [0.0]\n",
    "refl.chi = [0.0]\n",
    "\n",
    "# create materials object with fuel and reflector\n",
    "materials = diffusion.Materials(num_materials=2, num_energy_groups=1)\n",
    "materials.set_material(fuel, 0)\n",
    "materials.set_material(refl, 1)\n",
    "\n",
    "# create geometry and mesh\n",
    "mesh = diffusion.Mesh(num_parts=3)\n",
    "mesh.material_map = [1, 0, 1]\n",
    "mesh.part_sizes = [100.0, a_reflected, 100.0]\n",
    "mesh.part_mesh = [1000, 2000, 1000]\n",
    "mesh.left_boundary = \"zero\"\n",
    "mesh.right_boundary = \"zero\"\n",
    "\n",
    "# create solver and solve\n",
    "solver = diffusion.Solver(materials, mesh)\n",
    "solver.solve()\n",
    "\n",
    "# extract eigemodes\n",
    "eigs = solver.extract_eigenvalues()\n",
    "slab_x_refl, fluxes_refl = solver.extract_eigenvectors()\n",
    "print eigs[0]"
   ]
  },
  {
   "cell_type": "code",
   "execution_count": 45,
   "metadata": {
    "collapsed": false
   },
   "outputs": [
    {
     "data": {
      "text/plain": [
       "(-20, 20)"
      ]
     },
     "execution_count": 45,
     "metadata": {},
     "output_type": "execute_result"
    },
    {
     "data": {
      "image/png": "[encoded data removed]",
      "text/plain": [
       "<matplotlib.figure.Figure at 0x1ca4b390>"
      ]
     },
     "metadata": {},
     "output_type": "display_data"
    }
   ],
   "source": [
    "fig, ax = plt.subplots(figsize=(10, 7.5))\n",
    "\n",
    "ax.plot(slab_x-slab_x[-1]/2, fluxes[0,:,0], label=\"Bare critical core\")\n",
    "ax.plot(slab_x_refl-slab_x_refl[-1]/2, fluxes_refl[0,:,0], label=\"Reflected critical core\")\n",
    "ax.set_xlabel(\"Slab position [cm]\", fontsize=14)\n",
    "ax.set_ylabel(\"Flux [-]\", fontsize=14)\n",
    "ax.legend(fontsize=14, loc=2)\n",
    "ax.set_xlim(-20, 20)"
   ]
  },
  {
   "cell_type": "markdown",
   "metadata": {},
   "source": [
    "## Reflector Savings"
   ]
  },
  {
   "cell_type": "code",
   "execution_count": 46,
   "metadata": {
    "collapsed": false
   },
   "outputs": [
    {
     "name": "stdout",
     "output_type": "stream",
     "text": [
      "[ 1.94325117]\n"
     ]
    }
   ],
   "source": [
    "# For a slab usually quoted for one side\n",
    "savings = a_bare/2.0 - a_reflected/2.0\n",
    "\n",
    "print savings"
   ]
  },
  {
   "cell_type": "code",
   "execution_count": null,
   "metadata": {
    "collapsed": true
   },
   "outputs": [],
   "source": []
  }
 ],
 "metadata": {
  "kernelspec": {
   "display_name": "Python 2",
   "language": "python",
   "name": "python2"
  },
  "language_info": {
   "codemirror_mode": {
    "name": "ipython",
    "version": 2
   },
   "file_extension": ".py",
   "mimetype": "text/x-python",
   "name": "python",
   "nbconvert_exporter": "python",
   "pygments_lexer": "ipython2",
   "version": "2.7.11"
  }
 },
 "nbformat": 4,
 "nbformat_minor": 0
}
