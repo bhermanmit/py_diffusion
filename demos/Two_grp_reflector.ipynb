{
 "cells": [
  {
   "cell_type": "code",
   "execution_count": 1,
   "metadata": {
    "collapsed": true
   },
   "outputs": [],
   "source": [
    "import diffusion\n",
    "\n",
    "import numpy as np\n",
    "import scipy.optimize\n",
    "import matplotlib.pyplot as plt\n",
    "\n",
    "%matplotlib inline"
   ]
  },
  {
   "cell_type": "code",
   "execution_count": 2,
   "metadata": {
    "collapsed": false
   },
   "outputs": [
    {
     "name": "stdout",
     "output_type": "stream",
     "text": [
      "1.1315679346\n"
     ]
    }
   ],
   "source": [
    "fuel = diffusion.Material(num_energy_groups=2)\n",
    "\n",
    "fuel.diffusion = [1.263000, 0.354000]\n",
    "fuel.total = [0.012000+0.014000, 0.121000 ]\n",
    "fuel.scattering = [[0.0, 0.014000], [0.0, 0.0]]\n",
    "fuel.nu_fission = [0.008476, 0.185000]\n",
    "fuel.chi = [1.0, 0.0]\n",
    "\n",
    "refl = diffusion.Material(num_energy_groups=2)\n",
    "\n",
    "refl.diffusion = [1.130000, 0.160000]\n",
    "refl.total = [0.000400+0.049000, 0.020000]\n",
    "refl.scattering = [[0.0, 0.049000], [0.0, 0.0]]\n",
    "refl.nu_fission = [0.0, 0.0]\n",
    "refl.chi = [1.0, 0.0]\n",
    "\n",
    "materials = diffusion.Materials(num_materials=2, num_energy_groups=2)\n",
    "materials.set_material(fuel, 0)\n",
    "materials.set_material(refl, 1)\n",
    "\n",
    "mesh = diffusion.Mesh(num_parts=2)\n",
    "mesh.material_map = [0, 1]\n",
    "mesh.part_sizes = [80., 14.]\n",
    "mesh.part_mesh = [160, 140]\n",
    "mesh.left_boundary = \"reflective\"\n",
    "mesh.right_boundary = \"zero\"\n",
    "\n",
    "solver = diffusion.Solver(materials, mesh)\n",
    "solver.solve()\n",
    "\n",
    "eigs = solver.extract_eigenvalues()\n",
    "slab_x, fluxes = solver.extract_eigenvectors()\n",
    "print eigs[0]"
   ]
  },
  {
   "cell_type": "code",
   "execution_count": 3,
   "metadata": {
    "collapsed": false
   },
   "outputs": [
    {
     "data": {
      "text/plain": [
       "<matplotlib.legend.Legend at 0x1a11f4a8>"
      ]
     },
     "execution_count": 3,
     "metadata": {},
     "output_type": "execute_result"
    },
    {
     "data": {
      "image/png": "[encoded data removed]",
      "text/plain": [
       "<matplotlib.figure.Figure at 0x1a11f908>"
      ]
     },
     "metadata": {},
     "output_type": "display_data"
    }
   ],
   "source": [
    "fig, ax = plt.subplots(figsize=(10, 7.5))\n",
    "\n",
    "ax.plot(slab_x, fluxes[0,:,0], label=\"Fast flux\")\n",
    "ax.plot(slab_x, fluxes[1,:,0], label=\"Thermal flux\")\n",
    "ax.set_xlabel(\"Slab position [cm]\", fontsize=14)\n",
    "ax.set_ylabel(\"Flux [-]\", fontsize=14)\n",
    "ax.set_ylim(0.0, 1.0)\n",
    "ax.legend(fontsize=14)"
   ]
  },
  {
   "cell_type": "code",
   "execution_count": 4,
   "metadata": {
    "collapsed": false
   },
   "outputs": [
    {
     "name": "stdout",
     "output_type": "stream",
     "text": [
      "8.65069437418 8.65065764393\n"
     ]
    }
   ],
   "source": [
    "print 2.735834/0.316256, fluxes[0,0,0]/fluxes[1,0,0]"
   ]
  },
  {
   "cell_type": "code",
   "execution_count": null,
   "metadata": {
    "collapsed": true
   },
   "outputs": [],
   "source": []
  }
 ],
 "metadata": {
  "kernelspec": {
   "display_name": "Python 2",
   "language": "python",
   "name": "python2"
  },
  "language_info": {
   "codemirror_mode": {
    "name": "ipython",
    "version": 2
   },
   "file_extension": ".py",
   "mimetype": "text/x-python",
   "name": "python",
   "nbconvert_exporter": "python",
   "pygments_lexer": "ipython2",
   "version": "2.7.11"
  }
 },
 "nbformat": 4,
 "nbformat_minor": 0
}
