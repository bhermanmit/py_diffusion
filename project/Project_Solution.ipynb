{
 "cells": [
  {
   "cell_type": "markdown",
   "metadata": {},
   "source": [
    "# Project Solution\n",
    "Bryan Herman"
   ]
  },
  {
   "cell_type": "code",
   "execution_count": 1,
   "metadata": {
    "collapsed": true
   },
   "outputs": [],
   "source": [
    "import diffusion\n",
    "import matplotlib.pyplot as plt\n",
    "import numpy as np\n",
    "%matplotlib inline"
   ]
  },
  {
   "cell_type": "markdown",
   "metadata": {},
   "source": [
    "Define all materials"
   ]
  },
  {
   "cell_type": "code",
   "execution_count": 2,
   "metadata": {
    "collapsed": false
   },
   "outputs": [],
   "source": [
    "fuel_low = diffusion.Material(num_energy_groups=2)\n",
    "fuel_low.diffusion = [1.268, 0.1902]\n",
    "fuel_low.total = [0.064851, 0.17047]\n",
    "fuel_low.scattering = [[0.03, 0.02767], [0.0, 0.1]]\n",
    "fuel_low.nu_fission = [0.004609, 0.08675]\n",
    "fuel_low.chi = [1.0, 0.0]\n",
    "\n",
    "fuel_low_rod = diffusion.Material(num_energy_groups=2)\n",
    "fuel_low_rod.diffusion = [1.255, 0.211]\n",
    "fuel_low_rod.total = [0.063582, 0.2003]\n",
    "fuel_low_rod.scattering = [[0.03, 0.02533], [0.0, 0.1]]\n",
    "fuel_low_rod.nu_fission = [0.004602, 0.1091]\n",
    "fuel_low_rod.chi = [1.0, 0.0]\n",
    "\n",
    "fuel_high = diffusion.Material(num_energy_groups=2)\n",
    "fuel_high.diffusion = [1.259, 0.2091]\n",
    "fuel_high.total = [0.064171, 0.173324]\n",
    "fuel_high.scattering = [[0.03, 0.02617], [0.0, 0.1]]\n",
    "fuel_high.nu_fission = [0.004663, 0.1021]\n",
    "fuel_high.chi = [1.0, 0.0]\n",
    "\n",
    "fuel_high_rod = diffusion.Material(num_energy_groups=2)\n",
    "fuel_high_rod.diffusion = [1.259, 0.2091]\n",
    "fuel_high_rod.total = [0.064171, 0.18344]\n",
    "fuel_high_rod.scattering = [[0.03, 0.02617], [0.0, 0.1]]\n",
    "fuel_high_rod.nu_fission = [0.004663, 0.1021]\n",
    "fuel_high_rod.chi = [1.0, 0.0]\n",
    "\n",
    "reflector = diffusion.Material(num_energy_groups=2)\n",
    "reflector.diffusion = [1.257, 0.1592]\n",
    "reflector.total = [0.0781434, 0.11911]\n",
    "reflector.scattering = [[0.03, 0.04754], [0.0, 0.1]]\n",
    "reflector.nu_fission = [0.0, 0.0]\n",
    "reflector.chi = [1.0, 0.0]"
   ]
  },
  {
   "cell_type": "markdown",
   "metadata": {},
   "source": [
    "## Part 1: Homogeneous Two-group Slab"
   ]
  },
  {
   "cell_type": "markdown",
   "metadata": {},
   "source": [
    "Create a Materials object for this problem"
   ]
  },
  {
   "cell_type": "code",
   "execution_count": 3,
   "metadata": {
    "collapsed": true
   },
   "outputs": [],
   "source": [
    "materials = diffusion.Materials(num_materials=1, num_energy_groups=2)\n",
    "materials.set_material(fuel_low, 0)"
   ]
  },
  {
   "cell_type": "markdown",
   "metadata": {},
   "source": [
    "Create geometry and mesh, 20 cm slab length with 1 cm mesh"
   ]
  },
  {
   "cell_type": "code",
   "execution_count": 4,
   "metadata": {
    "collapsed": true
   },
   "outputs": [],
   "source": [
    "mesh = diffusion.Mesh(num_parts=1)\n",
    "mesh.material_map = [0]\n",
    "mesh.part_sizes = [20.0]\n",
    "mesh.part_mesh = [20]\n",
    "mesh.left_boundary = \"reflective\"\n",
    "mesh.right_boundary = \"reflective\""
   ]
  },
  {
   "cell_type": "markdown",
   "metadata": {},
   "source": [
    "Create a solver"
   ]
  },
  {
   "cell_type": "code",
   "execution_count": 5,
   "metadata": {
    "collapsed": false
   },
   "outputs": [],
   "source": [
    "solver = diffusion.Solver(materials, mesh)\n",
    "solver.solve()"
   ]
  },
  {
   "cell_type": "markdown",
   "metadata": {},
   "source": [
    "Extract output from solver"
   ]
  },
  {
   "cell_type": "code",
   "execution_count": 6,
   "metadata": {
    "collapsed": true
   },
   "outputs": [],
   "source": [
    "eigs = solver.extract_eigenvalues()\n",
    "slab_x, fluxes = solver.extract_eigenvectors()"
   ]
  },
  {
   "cell_type": "markdown",
   "metadata": {},
   "source": [
    "Plot results"
   ]
  },
  {
   "cell_type": "code",
   "execution_count": 7,
   "metadata": {
    "collapsed": false
   },
   "outputs": [
    {
     "data": {
      "text/plain": [
       "<matplotlib.legend.Legend at 0x7f0bbe511610>"
      ]
     },
     "execution_count": 7,
     "metadata": {},
     "output_type": "execute_result"
    },
    {
     "data": {
      "image/png": "[encoded data removed]",
      "text/plain": [
       "<matplotlib.figure.Figure at 0x7f0bc05cb9d0>"
      ]
     },
     "metadata": {},
     "output_type": "display_data"
    }
   ],
   "source": [
    "fig, ax = plt.subplots(figsize=(10, 7.5))\n",
    "\n",
    "ax.plot(slab_x, fluxes[0,:,0], label=\"Fast flux\")\n",
    "ax.plot(slab_x, fluxes[1,:,0], label=\"Thermal flux\")\n",
    "ax.set_xlabel(\"Slab position [cm]\", fontsize=14)\n",
    "ax.set_ylabel(\"Flux [-]\", fontsize=14)\n",
    "ax.legend(fontsize=14)"
   ]
  },
  {
   "cell_type": "markdown",
   "metadata": {},
   "source": [
    "The Diffusion Equations for this 1-D Homogeneous slab problem is:\n",
    "\n",
    "Fast Group Balance: $\\Sigma_{t_1}\\phi_1 = \\Sigma_{s_{1\\rightarrow 1}}\\phi_1 + \\frac{1}{k}\\left(\\nu\\Sigma_{f_1}\\phi_1 + \\nu\\Sigma_{f_2}\\phi_2\\right)$\n",
    "\n",
    "Thermal Group Balance: $\\Sigma_{t_2}\\phi_2 = \\Sigma_{s_{1\\rightarrow 2}}\\phi_1 + \\Sigma_{s_{2\\rightarrow 2}}\\phi_2$\n",
    "\n",
    "The fast-to-thermal flux ratio can be determined from the thermal group equation:\n",
    "\n",
    "$\\frac{\\phi_1}{\\phi_2} = \\frac{\\Sigma_{t_2} - \\Sigma_{s_{2\\rightarrow 2}}}{\\Sigma_{s_{1\\rightarrow 2}}}$"
   ]
  },
  {
   "cell_type": "code",
   "execution_count": 8,
   "metadata": {
    "collapsed": false
   },
   "outputs": [
    {
     "name": "stdout",
     "output_type": "stream",
     "text": [
      "2.54680159017\n",
      "[ 2.54680159  2.54680159  2.54680159  2.54680159  2.54680159  2.54680159\n",
      "  2.54680159  2.54680159  2.54680159  2.54680159  2.54680159  2.54680159\n",
      "  2.54680159  2.54680159  2.54680159  2.54680159  2.54680159  2.54680159\n",
      "  2.54680159  2.54680159]\n"
     ]
    }
   ],
   "source": [
    "# extract data\n",
    "total_2 = fuel_low.total[1]\n",
    "scattering_2_2 = fuel_low.scattering[1, 1]\n",
    "scattering_1_2 = fuel_low.scattering[0, 1]\n",
    "\n",
    "# flux ratio from cross sections\n",
    "flux_ratio_xs = (total_2 - scattering_2_2) / scattering_1_2\n",
    "\n",
    "# flux ratio from solution\n",
    "flux_ratio_solver = fluxes[0, :, 0] / fluxes[1, :, 0]\n",
    "\n",
    "print flux_ratio_xs\n",
    "print flux_ratio_solver"
   ]
  },
  {
   "cell_type": "markdown",
   "metadata": {},
   "source": [
    "The flux ratio can be substituted into the fast group equation:\n",
    "\n",
    "$\\Sigma_{t_1} = \\Sigma_{s_{1\\rightarrow 1}} + \\frac{1}{k}\\left(\\nu\\Sigma_{f_1} + \\nu\\Sigma_{f_2}\\frac{\\phi_2}{\\phi_1}\\right)$\n",
    "\n",
    "$\\Sigma_{t_1} = \\Sigma_{s_{1\\rightarrow 1}} + \\frac{1}{k}\\left(\\nu\\Sigma_{f_1} + \\nu\\Sigma_{f_2}\\frac{\\Sigma_{s_{1\\rightarrow 2}}}{\\Sigma_{t_2} - \\Sigma_{s_{2\\rightarrow 2}}}\\right)$\n",
    "\n",
    "$k = \\frac{\\nu\\Sigma_{f_1} + \\nu\\Sigma_{f_2}\\frac{\\Sigma_{s_{1\\rightarrow 2}}}{\\Sigma_{t_2} - \\Sigma_{s_{2\\rightarrow 2}}}}{\\Sigma_{t_1} - \\Sigma_{s_{1\\rightarrow 1}}}$\n",
    "\n",
    "$k = \\frac{\\nu\\Sigma_{f_1}}{\\Sigma_{t_1} - \\Sigma_{s_{1\\rightarrow 1}}} + \\nu\\Sigma_{f_2}\\frac{\\Sigma_{s_{1\\rightarrow 2}}}{\\left(\\Sigma_{t_2} - \\Sigma_{s_{2\\rightarrow 2}}\\right)\\left(\\Sigma_{t_1} - \\Sigma_{s_{1\\rightarrow 1}}\\right)}$\n",
    "\n",
    "$k = \\frac{\\nu\\Sigma_{f_1}}{\\Sigma_{r_1}} + \\nu\\Sigma_{f_2}\\frac{\\Sigma_{s_{1\\rightarrow 2}}}{\\Sigma_{r_2}\\Sigma_{r_1}}$"
   ]
  },
  {
   "cell_type": "code",
   "execution_count": 9,
   "metadata": {
    "collapsed": false
   },
   "outputs": [
    {
     "name": "stdout",
     "output_type": "stream",
     "text": [
      "1.10961899195\n",
      "1.10961899195\n"
     ]
    }
   ],
   "source": [
    "# extract data\n",
    "nu_fission_1 = fuel_low.nu_fission[0]\n",
    "nu_fission_2 = fuel_low.nu_fission[1]\n",
    "removal_1 = fuel_low.total[0] - fuel_low.scattering[0, 0]\n",
    "removal_2 = fuel_low.total[1] - fuel_low.scattering[1, 1]\n",
    "scattering_1_2 = fuel_low.scattering[0, 1]\n",
    "\n",
    "# k-infinity from equation\n",
    "k_inf_eq = nu_fission_1 / removal_1 + nu_fission_2*scattering_1_2 / (removal_1 * removal_2)\n",
    "\n",
    "# k-infinity from calculation\n",
    "k_inf_calc = eigs[0]\n",
    "\n",
    "print k_inf_eq\n",
    "print k_inf_calc"
   ]
  },
  {
   "cell_type": "markdown",
   "metadata": {},
   "source": [
    "Apply zero flux boundary conditions, recalculate and plot"
   ]
  },
  {
   "cell_type": "code",
   "execution_count": 10,
   "metadata": {
    "collapsed": false
   },
   "outputs": [
    {
     "data": {
      "text/plain": [
       "<matplotlib.legend.Legend at 0x7f0bbe4bc650>"
      ]
     },
     "execution_count": 10,
     "metadata": {},
     "output_type": "execute_result"
    },
    {
     "data": {
      "image/png": "[encoded data removed]",
      "text/plain": [
       "<matplotlib.figure.Figure at 0x7f0be99614d0>"
      ]
     },
     "metadata": {},
     "output_type": "display_data"
    }
   ],
   "source": [
    "mesh.left_boundary = \"zero\"\n",
    "mesh.right_boundary = \"zero\"\n",
    "\n",
    "solver = diffusion.Solver(materials, mesh)\n",
    "solver.solve()\n",
    "\n",
    "eigs = solver.extract_eigenvalues()\n",
    "slab_x, fluxes = solver.extract_eigenvectors()\n",
    "\n",
    "fig, ax = plt.subplots(figsize=(10, 7.5))\n",
    "\n",
    "ax.plot(slab_x, fluxes[0,:,0], label=\"Fast flux\")\n",
    "ax.plot(slab_x, fluxes[1,:,0], label=\"Thermal flux\")\n",
    "ax.set_xlabel(\"Slab position [cm]\", fontsize=14)\n",
    "ax.set_ylabel(\"Flux [-]\", fontsize=14)\n",
    "ax.legend(fontsize=14)"
   ]
  },
  {
   "cell_type": "markdown",
   "metadata": {},
   "source": [
    "What is the k-effective and how does it compare to k-infinity? Why is this?"
   ]
  },
  {
   "cell_type": "code",
   "execution_count": 11,
   "metadata": {
    "collapsed": false
   },
   "outputs": [
    {
     "name": "stdout",
     "output_type": "stream",
     "text": [
      "k-infinity =  1.10961899195\n",
      "k-effective =  0.553152646047\n",
      "k-effective < k-infinity?  True\n"
     ]
    }
   ],
   "source": [
    "print \"k-infinity = \", k_inf_calc\n",
    "print \"k-effective = \", eigs[0]\n",
    "\n",
    "print \"k-effective < k-infinity? \", eigs[0] < k_inf_calc"
   ]
  },
  {
   "cell_type": "markdown",
   "metadata": {},
   "source": [
    "## Part 2: Cross Section Collapse\n",
    "\n",
    "You need to collapse the cross sections for the low-enriched fuel from 2 group to 1 group."
   ]
  },
  {
   "cell_type": "code",
   "execution_count": 12,
   "metadata": {
    "collapsed": false
   },
   "outputs": [
    {
     "name": "stdout",
     "output_type": "stream",
     "text": [
      "Total:  0.0946296603831\n",
      "Scattering:  0.0696046963521\n",
      "Nu-fission:  0.0277681753617\n"
     ]
    }
   ],
   "source": [
    "# extract data\n",
    "total_1 = fuel_low.total[0]\n",
    "total_2 = fuel_low.total[1]\n",
    "scattering_1_1 = fuel_low.scattering[0, 0]\n",
    "scattering_1_2 = fuel_low.scattering[0, 1]\n",
    "scattering_2_1 = fuel_low.scattering[1, 0]\n",
    "scattering_2_2 = fuel_low.scattering[1, 1]\n",
    "nu_fission_1 = fuel_low.nu_fission[0]\n",
    "nu_fission_2 = fuel_low.nu_fission[1]\n",
    "\n",
    "# collapse xs\n",
    "total = (total_1*flux_ratio_xs + total_2) / (1 + flux_ratio_xs)\n",
    "scattering = ((scattering_1_1 + scattering_1_2)*flux_ratio_xs + (scattering_2_1 + scattering_2_2)) / (1 + flux_ratio_xs)\n",
    "nu_fission = (nu_fission_1*flux_ratio_xs + nu_fission_2) / (1 + flux_ratio_xs)\n",
    "\n",
    "print \"Total: \", total\n",
    "print \"Scattering: \", scattering\n",
    "print \"Nu-fission: \", nu_fission"
   ]
  },
  {
   "cell_type": "markdown",
   "metadata": {},
   "source": [
    "Calculate k-infinity with these one group cross sections and compare to two-group cross sections. What do you notice and why?"
   ]
  },
  {
   "cell_type": "code",
   "execution_count": 13,
   "metadata": {
    "collapsed": false
   },
   "outputs": [
    {
     "name": "stdout",
     "output_type": "stream",
     "text": [
      "1.10961899195\n"
     ]
    }
   ],
   "source": [
    "# calculate k-infinity with these one group cross sections\n",
    "k_inf = nu_fission / (total - scattering)\n",
    "\n",
    "print k_inf"
   ]
  },
  {
   "cell_type": "markdown",
   "metadata": {},
   "source": [
    "Create a material with one energy group for fuel with diffusion coefficient of 1.1"
   ]
  },
  {
   "cell_type": "code",
   "execution_count": 14,
   "metadata": {
    "collapsed": false
   },
   "outputs": [],
   "source": [
    "fuel = diffusion.Material(num_energy_groups=1)\n",
    "fuel.diffusion = [1.1]\n",
    "fuel.total = [total]\n",
    "fuel.scattering = [[scattering]]\n",
    "fuel.nu_fission = [nu_fission]\n",
    "fuel.chi = [1.0]"
   ]
  },
  {
   "cell_type": "markdown",
   "metadata": {},
   "source": [
    "## Fuel-Reflector Problem"
   ]
  },
  {
   "cell_type": "markdown",
   "metadata": {},
   "source": [
    "Assume one group xs for reflector are:"
   ]
  },
  {
   "cell_type": "code",
   "execution_count": 15,
   "metadata": {
    "collapsed": false
   },
   "outputs": [],
   "source": [
    "refl = diffusion.Material(num_energy_groups=1)\n",
    "refl.diffusion = [1.3]\n",
    "refl.total = [0.1]\n",
    "refl.scattering = [[0.095]]\n",
    "refl.nu_fission = [0.0]\n",
    "refl.chi = [1.0]"
   ]
  },
  {
   "cell_type": "markdown",
   "metadata": {},
   "source": [
    "Create a slab reactor that is critical with your fuel material. Assume zero flux boundary conditions."
   ]
  },
  {
   "cell_type": "code",
   "execution_count": 16,
   "metadata": {
    "collapsed": false
   },
   "outputs": [
    {
     "name": "stdout",
     "output_type": "stream",
     "text": [
      "Critical Eigenvalue =  0.999997851545\n"
     ]
    }
   ],
   "source": [
    "critical_bare = 62.90886\n",
    "\n",
    "# Create materials\n",
    "materials = diffusion.Materials(num_materials=1, num_energy_groups=1)\n",
    "materials.set_material(fuel, 0)\n",
    "\n",
    "# Create mesh\n",
    "mesh = diffusion.Mesh(num_parts=1)\n",
    "mesh.material_map = [0]\n",
    "mesh.part_sizes = [critical_bare]\n",
    "mesh.part_mesh = [2000]\n",
    "mesh.left_boundary = \"zero\"\n",
    "mesh.right_boundary = \"zero\"\n",
    "\n",
    "# Create solver\n",
    "solver = diffusion.Solver(materials, mesh)\n",
    "solver.solve()\n",
    "\n",
    "# Extract results\n",
    "eigs = solver.extract_eigenvalues()\n",
    "slab_x, fluxes = solver.extract_eigenvectors()\n",
    "\n",
    "print \"Critical Eigenvalue = \", eigs[0]"
   ]
  },
  {
   "cell_type": "markdown",
   "metadata": {},
   "source": [
    "Determine the reflector savings with an infinite reflector let's say 100 cm on each side. How does it compare with theoretical derivation?"
   ]
  },
  {
   "cell_type": "code",
   "execution_count": 17,
   "metadata": {
    "collapsed": false
   },
   "outputs": [
    {
     "name": "stdout",
     "output_type": "stream",
     "text": [
      "Critical Eigenvalue =  0.999999008913\n"
     ]
    }
   ],
   "source": [
    "critical_refl = 35.759\n",
    "\n",
    "# Create materials\n",
    "materials = diffusion.Materials(num_materials=2, num_energy_groups=1)\n",
    "materials.set_material(fuel, 0)\n",
    "materials.set_material(refl, 1)\n",
    "\n",
    "# Create mesh\n",
    "mesh = diffusion.Mesh(num_parts=3)\n",
    "mesh.material_map = [1, 0, 1]\n",
    "mesh.part_sizes = [100.0, critical_refl, 100.0]\n",
    "mesh.part_mesh = [2000, 2000, 2000]\n",
    "mesh.left_boundary = \"zero\"\n",
    "mesh.right_boundary = \"zero\"\n",
    "\n",
    "# Create solver\n",
    "solver = diffusion.Solver(materials, mesh)\n",
    "solver.solve()\n",
    "\n",
    "# Extract results\n",
    "eigs = solver.extract_eigenvalues()\n",
    "slab_x, fluxes = solver.extract_eigenvectors()\n",
    "\n",
    "print \"Critical Eigenvalue = \", eigs[0]"
   ]
  },
  {
   "cell_type": "code",
   "execution_count": 18,
   "metadata": {
    "collapsed": false
   },
   "outputs": [
    {
     "name": "stdout",
     "output_type": "stream",
     "text": [
      "27.14986\n"
     ]
    }
   ],
   "source": [
    "reflector_savings_calc = critical_bare - critical_refl\n",
    "print reflector_savings_calc"
   ]
  },
  {
   "cell_type": "markdown",
   "metadata": {},
   "source": [
    "Calculate theoretical"
   ]
  },
  {
   "cell_type": "code",
   "execution_count": 19,
   "metadata": {
    "collapsed": false
   },
   "outputs": [
    {
     "name": "stdout",
     "output_type": "stream",
     "text": [
      "[ 27.28764161]\n"
     ]
    }
   ],
   "source": [
    "# Calculate diffusion length of reflector\n",
    "L_r = np.sqrt(refl.diffusion[0] / (refl.total[0] - refl.scattering[0]))\n",
    "print fuel.diffusion[0] / refl.diffusion[0] * L_r * 2"
   ]
  },
  {
   "cell_type": "markdown",
   "metadata": {},
   "source": [
    "Perform and plot the 2 group solution for fuel_low and reflector materials with critical reflected dimensions above\n",
    "(result wont be exactly critical because reflector cross sections are different in 2 groups)"
   ]
  },
  {
   "cell_type": "code",
   "execution_count": 20,
   "metadata": {
    "collapsed": false
   },
   "outputs": [
    {
     "data": {
      "text/plain": [
       "<matplotlib.legend.Legend at 0x7f0bbe1c8ed0>"
      ]
     },
     "execution_count": 20,
     "metadata": {},
     "output_type": "execute_result"
    },
    {
     "data": {
      "image/png": "[encoded data removed]",
      "text/plain": [
       "<matplotlib.figure.Figure at 0x7f0bbe537b90>"
      ]
     },
     "metadata": {},
     "output_type": "display_data"
    }
   ],
   "source": [
    "# Create materials\n",
    "materials = diffusion.Materials(num_materials=2, num_energy_groups=2)\n",
    "materials.set_material(fuel_low, 0)\n",
    "materials.set_material(reflector, 1)\n",
    "\n",
    "# Create mesh\n",
    "mesh = diffusion.Mesh(num_parts=3)\n",
    "mesh.material_map = [1, 0, 1]\n",
    "mesh.part_sizes = [100.0, critical_refl, 100.0]\n",
    "mesh.part_mesh = [2000, 2000, 2000]\n",
    "mesh.left_boundary = \"zero\"\n",
    "mesh.right_boundary = \"zero\"\n",
    "\n",
    "# Create solver\n",
    "solver = diffusion.Solver(materials, mesh)\n",
    "solver.solve()\n",
    "\n",
    "# Extract results\n",
    "eigs = solver.extract_eigenvalues()\n",
    "slab_x, fluxes = solver.extract_eigenvectors()\n",
    "\n",
    "# Plot results\n",
    "fig, ax = plt.subplots(figsize=(10, 7.5))\n",
    "\n",
    "ax.plot(slab_x, fluxes[0,:,0], label=\"Fast flux\")\n",
    "ax.plot(slab_x, fluxes[1,:,0], label=\"Thermal flux\")\n",
    "ax.set_xlabel(\"Slab position [cm]\", fontsize=14)\n",
    "ax.set_ylabel(\"Flux [-]\", fontsize=14)\n",
    "ax.legend(fontsize=14)"
   ]
  },
  {
   "cell_type": "markdown",
   "metadata": {},
   "source": [
    "## Reactor Design"
   ]
  },
  {
   "cell_type": "code",
   "execution_count": 21,
   "metadata": {
    "collapsed": false
   },
   "outputs": [
    {
     "name": "stdout",
     "output_type": "stream",
     "text": [
      "[ 3  3 -1  0 -1  0 -1  0 -1  0  1  2  1  2  1  2  1  2  1  3  3]\n"
     ]
    },
    {
     "data": {
      "text/plain": [
       "<matplotlib.legend.Legend at 0x7f0bbe10fed0>"
      ]
     },
     "execution_count": 21,
     "metadata": {},
     "output_type": "execute_result"
    },
    {
     "data": {
      "image/png": "[encoded data removed]",
      "text/plain": [
       "<matplotlib.figure.Figure at 0x7f0bbe4dbe50>"
      ]
     },
     "metadata": {},
     "output_type": "display_data"
    }
   ],
   "source": [
    "materials = diffusion.Materials(num_materials=5, num_energy_groups=2)\n",
    "materials.set_material(fuel_low, 0)\n",
    "materials.set_material(fuel_low_rod, 1)\n",
    "materials.set_material(fuel_high, 2)\n",
    "materials.set_material(fuel_high_rod, 3)\n",
    "materials.set_material(reflector, 4)\n",
    "\n",
    "mesh = diffusion.Mesh(num_parts=21)\n",
    "mesh.material_map = [4, 4, 0, 1, 0, 1, 0, 1, 0, 1, 2, 3, 2, 3, 2, 3, 2, 3, 2, 4, 4]\n",
    "print np.array(mesh.material_map) - 1\n",
    "mesh.part_sizes = 21*[15.0]\n",
    "mesh.part_mesh = 21*[15]\n",
    "mesh.left_boundary = \"vacuum\"\n",
    "mesh.right_boundary = \"vacuum\"\n",
    "\n",
    "solver = diffusion.Solver(materials, mesh)\n",
    "solver.solve()\n",
    "\n",
    "eigs = solver.extract_eigenvalues()\n",
    "slab_x, fluxes = solver.extract_eigenvectors()\n",
    "\n",
    "fig, ax = plt.subplots(figsize=(10, 7.5))\n",
    "\n",
    "ax.plot(slab_x, fluxes[0,:,0], label=\"Fast flux\")\n",
    "ax.plot(slab_x, fluxes[1,:,0], label=\"Thermal flux\")\n",
    "ax.set_xlabel(\"Slab position [cm]\", fontsize=14)\n",
    "ax.set_ylabel(\"Flux [-]\", fontsize=14)\n",
    "ax.legend(fontsize=14)"
   ]
  },
  {
   "cell_type": "code",
   "execution_count": null,
   "metadata": {
    "collapsed": true
   },
   "outputs": [],
   "source": []
  }
 ],
 "metadata": {
  "kernelspec": {
   "display_name": "Python 2",
   "language": "python",
   "name": "python2"
  },
  "language_info": {
   "codemirror_mode": {
    "name": "ipython",
    "version": 2
   },
   "file_extension": ".py",
   "mimetype": "text/x-python",
   "name": "python",
   "nbconvert_exporter": "python",
   "pygments_lexer": "ipython2",
   "version": "2.7.10"
  }
 },
 "nbformat": 4,
 "nbformat_minor": 0
}
